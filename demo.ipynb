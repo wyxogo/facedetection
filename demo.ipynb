{
 "cells": [
  {
   "cell_type": "code",
   "execution_count": null,
   "metadata": {},
   "outputs": [],
   "source": [
    "import mediapipe as mp\n",
    "import cv2\n",
    "import time\n",
    "mp_face_detection = mp.solutions.face_detection\n",
    "mp_drawing = mp.solutions.drawing_utils \n",
    "drawing_spec = mp_drawing.DrawingSpec(thickness=2, circle_radius=2)"
   ]
  },
  {
   "cell_type": "code",
   "execution_count": null,
   "metadata": {},
   "outputs": [],
   "source": [
    "with mp_face_detection.FaceDetection(min_detection_confidence=0.5, model_selection=0) as face_detection:\n",
    "    # for name, image in short_range_images.items():\n",
    "    video_path = \"./20221222-142519.mp4\"\n",
    "    capture = cv2.VideoCapture(video_path)\n",
    "    width = int(capture.get(cv2.CAP_PROP_FRAME_WIDTH))\n",
    "    height = int(capture.get(cv2.CAP_PROP_FRAME_HEIGHT))\n",
    "    fps = int(capture.get(cv2.CAP_PROP_FPS))\n",
    "    fourcc = int(capture.get(cv2.CAP_PROP_FOURCC))\n",
    "    # fourcc = cv2.VideoWriter_fourcc(*'MP4V')\n",
    "    writer = cv2.VideoWriter(\"./output.mp4\", fourcc, fps, (96,128),True)\n",
    "    if capture.isOpened():\n",
    "        while True:\n",
    "            ret, image = capture.read()\n",
    "            if not ret: \n",
    "                writer.release()\n",
    "                break\n",
    "            # Convert the BGR image to RGB and process it with MediaPipe Face Detection.\n",
    "            time1 = time.time()\n",
    "            image = cv2.resize(image,(96,128))\n",
    "            results = face_detection.process(cv2.cvtColor(image, cv2.COLOR_BGR2RGB))\n",
    "            print(time1-time.time())\n",
    "\n",
    "            # Draw face detections of each face.\n",
    "            # print(f'Face detections of {name}:')\n",
    "            if not results.detections:\n",
    "                continue\n",
    "            annotated_image = image.copy()\n",
    "            for detection in results.detections:\n",
    "                mp_drawing.draw_detection(annotated_image, detection)\n",
    "            # cv2.imshow(\"sdf\",annotated_image)\n",
    "            writer.write(annotated_image)\n",
    "            # resize_and_show(annotated_image)"
   ]
  }
 ],
 "metadata": {
  "kernelspec": {
   "display_name": "py37",
   "language": "python",
   "name": "python3"
  },
  "language_info": {
   "codemirror_mode": {
    "name": "ipython",
    "version": 3
   },
   "file_extension": ".py",
   "mimetype": "text/x-python",
   "name": "python",
   "nbconvert_exporter": "python",
   "pygments_lexer": "ipython3",
   "version": "3.7.15 (default, Nov 24 2022, 18:44:54) [MSC v.1916 64 bit (AMD64)]"
  },
  "orig_nbformat": 4,
  "vscode": {
   "interpreter": {
    "hash": "43cac2511cc4b5656efaf6d0cac09f0e966bd792875b16cd1292f52ae7c93efb"
   }
  }
 },
 "nbformat": 4,
 "nbformat_minor": 2
}
